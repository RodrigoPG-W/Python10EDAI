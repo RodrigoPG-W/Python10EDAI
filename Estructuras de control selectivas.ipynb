{
 "cells": [
  {
   "cell_type": "code",
   "execution_count": 2,
   "metadata": {},
   "outputs": [
    {
     "name": "stdout",
     "output_type": "stream",
     "text": [
      "7 es mayor que 5\n"
     ]
    }
   ],
   "source": [
    "#IF\n",
    "def obtenerMayor(param1,param2):\n",
    "    if param1<param2:\n",
    "        print('{} es mayor que {}'.format(param2,param1))\n",
    "obtenerMayor(5,7)"
   ]
  },
  {
   "cell_type": "code",
   "execution_count": 3,
   "metadata": {},
   "outputs": [],
   "source": [
    "obtenerMayor(7,5)    #No imprime nada"
   ]
  },
  {
   "cell_type": "code",
   "execution_count": 5,
   "metadata": {},
   "outputs": [
    {
     "name": "stdout",
     "output_type": "stream",
     "text": [
      "True\n"
     ]
    }
   ],
   "source": [
    "#Se puede encadenar más de una condición sin tener que agregar un operador booleano\n",
    "x=y=z=3\n",
    "if x==y==z:\n",
    "    print(True)"
   ]
  },
  {
   "cell_type": "code",
   "execution_count": 7,
   "metadata": {},
   "outputs": [
    {
     "name": "stdout",
     "output_type": "stream",
     "text": [
      "El mayor es 20\n",
      "El mayor es 11\n"
     ]
    }
   ],
   "source": [
    "#IF-ELSE\n",
    "def obtenerMayorv2(param1,param2):\n",
    "    if param1<param2:\n",
    "        return param2    #Regresa siempre el parámetro más grande.\n",
    "    else:\n",
    "        return param1\n",
    "print(\"El mayor es {}\".format(obtenerMayorv2(4,20)))\n",
    "print(\"El mayor es {}\".format(obtenerMayorv2(11,6)))"
   ]
  },
  {
   "cell_type": "code",
   "execution_count": 8,
   "metadata": {},
   "outputs": [
    {
     "name": "stdout",
     "output_type": "stream",
     "text": [
      "El mayor es 24\n"
     ]
    }
   ],
   "source": [
    "#Para comparaciones simples Python tiene un operador ternario que se puede emular con if-else\n",
    "def obtenerMayorv3(param1,param2):\n",
    "    #La variabe valor va a tener de param 2 si el if es verdadero de lo contrario tendrá el de param 1\n",
    "    valor=param2 if (param1<param2) else param1\n",
    "    return valor\n",
    "print(\"El mayor es {}\".format(obtenerMayorv3(24,23)))"
   ]
  },
  {
   "cell_type": "code",
   "execution_count": 9,
   "metadata": {},
   "outputs": [
    {
     "name": "stdout",
     "output_type": "stream",
     "text": [
      "Tu numero es 4\n",
      "No hay opción\n"
     ]
    }
   ],
   "source": [
    "#if-elif-else\n",
    "def numeros(num):\n",
    "    if num==1:\n",
    "        print(\"Tu numero es 1\")\n",
    "    elif num==2:\n",
    "        print(\"Tu numero es 2\")\n",
    "    elif num==3:\n",
    "        print(\"Tu numero es 3\")\n",
    "    elif num==4:\n",
    "        print(\"Tu numero es 4\")\n",
    "    else:\n",
    "        print(\"No hay opción\")\n",
    "numeros(4)\n",
    "numeros(8)"
   ]
  },
  {
   "cell_type": "code",
   "execution_count": 10,
   "metadata": {},
   "outputs": [
    {
     "name": "stdout",
     "output_type": "stream",
     "text": [
      "Tu numero es 2\n",
      "5 no es opción\n"
     ]
    }
   ],
   "source": [
    "#evitar repetir if-elif-else\n",
    "def numeros2(num):\n",
    "    #La tupla tiene las opciones válidas\n",
    "    if num in(1,2,3,4):\n",
    "        print(\"Tu numero es {}\".format(num))\n",
    "    else:\n",
    "        print(\"{} no es opción\".format(num))\n",
    "numeros2(2)\n",
    "numeros2(5)"
   ]
  },
  {
   "cell_type": "code",
   "execution_count": 11,
   "metadata": {},
   "outputs": [
    {
     "name": "stdout",
     "output_type": "stream",
     "text": [
      "El mas grande es 111\n"
     ]
    }
   ],
   "source": [
    "#Estructura selectiva anidada\n",
    "def obtenerMasG(a,b,c):\n",
    "    if a>b:\n",
    "        if a>c:\n",
    "            return a\n",
    "        else:\n",
    "            return c\n",
    "    else:\n",
    "        if b>c:\n",
    "            return b\n",
    "        else:\n",
    "            return c\n",
    "print(\"El mas grande es {}\".format(obtenerMasG(1,11,111)))"
   ]
  },
  {
   "cell_type": "code",
   "execution_count": null,
   "metadata": {},
   "outputs": [],
   "source": []
  }
 ],
 "metadata": {
  "kernelspec": {
   "display_name": "Python 3",
   "language": "python",
   "name": "python3"
  },
  "language_info": {
   "codemirror_mode": {
    "name": "ipython",
    "version": 3
   },
   "file_extension": ".py",
   "mimetype": "text/x-python",
   "name": "python",
   "nbconvert_exporter": "python",
   "pygments_lexer": "ipython3",
   "version": "3.7.7"
  }
 },
 "nbformat": 4,
 "nbformat_minor": 4
}
