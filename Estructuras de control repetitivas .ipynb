{
 "cells": [
  {
   "cell_type": "code",
   "execution_count": 1,
   "metadata": {},
   "outputs": [
    {
     "name": "stdout",
     "output_type": "stream",
     "text": [
      "5\n",
      "4\n",
      "3\n",
      "2\n",
      "1\n"
     ]
    }
   ],
   "source": [
    "#WHILE\n",
    "#Ejemplo 1\n",
    "def cuenta(limite):\n",
    "    i=limite\n",
    "    while True:\n",
    "        print (i)\n",
    "        i=i-1\n",
    "        if i==0:\n",
    "            break    #Esta instrucción rompe el ciclo.\n",
    "cuenta(5)"
   ]
  },
  {
   "cell_type": "code",
   "execution_count": 2,
   "metadata": {},
   "outputs": [
    {
     "name": "stdout",
     "output_type": "stream",
     "text": [
      "24\n",
      "40320\n"
     ]
    }
   ],
   "source": [
    "#Ejemplo 2\n",
    "#Cantidad que resulta de la multiplicación de determinado número\n",
    "#natural por todos los números naturales que le anteceden excluyendo el cero\n",
    "def factorial(n):\n",
    "    i=2\n",
    "    tmp=1\n",
    "    while i<n+1:\n",
    "        tmp=tmp*i\n",
    "        i=i+1\n",
    "    return tmp\n",
    "print(factorial(4))\n",
    "print(factorial(8))"
   ]
  },
  {
   "cell_type": "code",
   "execution_count": 3,
   "metadata": {},
   "outputs": [
    {
     "name": "stdout",
     "output_type": "stream",
     "text": [
      "1\n",
      "2\n",
      "3\n"
     ]
    }
   ],
   "source": [
    "#FOR\n",
    "#Iteración en listas\n",
    "for x in [1,2,3]:\n",
    "    print(x)"
   ]
  },
  {
   "cell_type": "code",
   "execution_count": 7,
   "metadata": {},
   "outputs": [
    {
     "name": "stdout",
     "output_type": "stream",
     "text": [
      "-5\n",
      "-4\n",
      "-3\n",
      "-2\n",
      "-1\n",
      "0\n",
      "1\n",
      "2\n",
      "3\n"
     ]
    }
   ],
   "source": [
    "#La función range() sirve para generar una lista\n",
    "for x in range(-5,4):    #Se puede inicializar desde numeros negativos.\n",
    "    print(x)"
   ]
  },
  {
   "cell_type": "code",
   "execution_count": 8,
   "metadata": {},
   "outputs": [
    {
     "name": "stdout",
     "output_type": "stream",
     "text": [
      "uno\n",
      "2\n",
      "0011\n",
      "four\n"
     ]
    }
   ],
   "source": [
    "for num in [\"uno\",\"2\",\"0011\",\"four\"]:\n",
    "    print(num)"
   ]
  },
  {
   "cell_type": "code",
   "execution_count": 9,
   "metadata": {},
   "outputs": [
    {
     "name": "stdout",
     "output_type": "stream",
     "text": [
      "hidrogeno  =  1\n",
      "helio  =  2\n",
      "carbon  =  6\n"
     ]
    }
   ],
   "source": [
    "#Iteración en diccionarios\n",
    "#Crecion de un diccionario\n",
    "elementos={'hidrogeno':1,'helio':2,'carbon':6}\n",
    "for llave,valor in elementos.items():\n",
    "    print(llave,\" = \",valor)"
   ]
  },
  {
   "cell_type": "code",
   "execution_count": 10,
   "metadata": {},
   "outputs": [
    {
     "name": "stdout",
     "output_type": "stream",
     "text": [
      "hidrogeno\n",
      "helio\n",
      "carbon\n"
     ]
    }
   ],
   "source": [
    "#Obteniendo sólo llaves\n",
    "for llave in elementos.keys():\n",
    "    print(llave)"
   ]
  },
  {
   "cell_type": "code",
   "execution_count": 12,
   "metadata": {},
   "outputs": [
    {
     "name": "stdout",
     "output_type": "stream",
     "text": [
      "1\n",
      "2\n",
      "6\n"
     ]
    }
   ],
   "source": [
    "#Obteniendo sólo valores\n",
    "for valor in elementos.values():\n",
    "    print(valor)"
   ]
  },
  {
   "cell_type": "code",
   "execution_count": 13,
   "metadata": {},
   "outputs": [
    {
     "name": "stdout",
     "output_type": "stream",
     "text": [
      "El indice es: 0 y el elemento: hidrogeno\n",
      "El indice es: 1 y el elemento: helio\n",
      "El indice es: 2 y el elemento: carbon\n"
     ]
    }
   ],
   "source": [
    "#Funcion enumerate()\n",
    "#En lenguaje C, tiene la sintaxis for(int i=0,i<condición,incremento en i)\n",
    "for idx, x in enumerate(elementos):\n",
    "    print(\"El indice es: {} y el elemento: {}\".format(idx,x))"
   ]
  },
  {
   "cell_type": "code",
   "execution_count": 14,
   "metadata": {},
   "outputs": [
    {
     "name": "stdout",
     "output_type": "stream",
     "text": [
      "3\n",
      "2\n",
      "1\n",
      "Cuenta finalizada\n"
     ]
    }
   ],
   "source": [
    "#Los ciclos for pueden hacer uso de else una vez terminados, pero no funciona si se rompe el ciclo.\n",
    "def cuenta_idiom(limite):\n",
    "    for i in range(limite,0,-1):\n",
    "        print(i)\n",
    "    else: #Corresponde al for, no a if\n",
    "        print(\"Cuenta finalizada\")\n",
    "cuenta_idiom(3)"
   ]
  },
  {
   "cell_type": "code",
   "execution_count": 15,
   "metadata": {},
   "outputs": [
    {
     "name": "stdout",
     "output_type": "stream",
     "text": [
      "3\n",
      "2\n"
     ]
    }
   ],
   "source": [
    "#Se rompe el ciclo y la sentencia no se ejecuta\n",
    "def cuenta_idiom2(limite):\n",
    "    for i in range(limite,0,-1):\n",
    "        print(i)\n",
    "        if i==2:\n",
    "            break    #Ciclo roto\n",
    "    else: #Corresponde al for, no a if\n",
    "        print(\"Cuenta finalizada\")\n",
    "cuenta_idiom2(3)"
   ]
  },
  {
   "cell_type": "code",
   "execution_count": null,
   "metadata": {},
   "outputs": [],
   "source": []
  }
 ],
 "metadata": {
  "kernelspec": {
   "display_name": "Python 3",
   "language": "python",
   "name": "python3"
  },
  "language_info": {
   "codemirror_mode": {
    "name": "ipython",
    "version": 3
   },
   "file_extension": ".py",
   "mimetype": "text/x-python",
   "name": "python",
   "nbconvert_exporter": "python",
   "pygments_lexer": "ipython3",
   "version": "3.7.7"
  }
 },
 "nbformat": 4,
 "nbformat_minor": 4
}
